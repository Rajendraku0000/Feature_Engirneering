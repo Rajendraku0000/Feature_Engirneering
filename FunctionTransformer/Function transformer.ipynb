{
 "cells": [
  {
   "cell_type": "code",
   "execution_count": 2,
   "id": "69bdcb25",
   "metadata": {},
   "outputs": [
    {
     "name": "stdout",
     "output_type": "stream",
     "text": [
      "[[0.69314718 1.09861229]\n",
      " [1.38629436 1.60943791]]\n"
     ]
    }
   ],
   "source": [
    "\n",
    "from sklearn.preprocessing import FunctionTransformer\n",
    "import numpy as np\n",
    "\n",
    "# create a dataset\n",
    "X = np.array([[1, 2], [3, 4]])\n",
    "\n",
    "# define the transformation function\n",
    "log_transform = FunctionTransformer(np.log1p)\n",
    "\n",
    "# apply the transformation to the dataset\n",
    "X_transformed = log_transform.transform(X)\n",
    "\n",
    "# view the transformed data\n",
    "print(X_transformed)"
   ]
  },
  {
   "cell_type": "code",
   "execution_count": 3,
   "id": "6ec15809",
   "metadata": {},
   "outputs": [
    {
     "name": "stdout",
     "output_type": "stream",
     "text": [
      "[[ 1  2  1  4]\n",
      " [ 3  4  9 16]]\n"
     ]
    }
   ],
   "source": [
    "# Practical usecases \n",
    "\n",
    "# 1. Custom Feature Engineering \n",
    "\n",
    "from sklearn.preprocessing import FunctionTransformer\n",
    "import numpy as np\n",
    "\n",
    "# create a dataset\n",
    "X = np.array([[1, 2], [3, 4]])\n",
    "\n",
    "# define a custom feature engineering function\n",
    "def my_feature_engineering(X):\n",
    "    return np.hstack((X, X**2))\n",
    "\n",
    "# create a FunctionTransformer to apply the custom function\n",
    "custom_transformer = FunctionTransformer(my_feature_engineering)\n",
    "\n",
    "# apply the transformer to the input data\n",
    "X_transformed = custom_transformer.transform(X)\n",
    "\n",
    "# view the transformed data\n",
    "print(X_transformed)\n"
   ]
  },
  {
   "cell_type": "code",
   "execution_count": 4,
   "id": "46138baa",
   "metadata": {},
   "outputs": [
    {
     "name": "stdout",
     "output_type": "stream",
     "text": [
      "[[0.25 0.5 ]\n",
      " [0.75 1.  ]]\n"
     ]
    }
   ],
   "source": [
    "# 2. Scaling And Normalization \n",
    "\n",
    "from sklearn.preprocessing import FunctionTransformer\n",
    "import numpy as np\n",
    "\n",
    "# create a dataset\n",
    "X = np.array([[1, 2], [3, 4]])\n",
    "\n",
    "# define a custom scaling function\n",
    "def my_scaling(X):\n",
    "    return X / np.max(X)\n",
    "\n",
    "# create a FunctionTransformer to apply the custom function\n",
    "custom_transformer = FunctionTransformer(my_scaling)\n",
    "\n",
    "# apply the transformer to the input data\n",
    "X_transformed = custom_transformer.transform(X)\n",
    "\n",
    "# view the transformed data\n",
    "print(X_transformed)\n"
   ]
  },
  {
   "cell_type": "code",
   "execution_count": 6,
   "id": "da29662e",
   "metadata": {},
   "outputs": [
    {
     "name": "stdout",
     "output_type": "stream",
     "text": [
      "[[1. 2.]\n",
      " [3. 0.]]\n"
     ]
    }
   ],
   "source": [
    "# 3. Data Cleaning \n",
    "\n",
    "from sklearn.preprocessing import FunctionTransformer\n",
    "import numpy as np\n",
    "\n",
    "# create a dataset with missing values\n",
    "X = np.array([[1, 2], [3, np.nan]])\n",
    "\n",
    "# define a custom cleaning function\n",
    "def my_cleaning(X):\n",
    "    X[np.isnan(X)] = 0\n",
    "    return X\n",
    "\n",
    "# create a FunctionTransformer to apply the custom function\n",
    "custom_transformer = FunctionTransformer(my_cleaning)\n",
    "\n",
    "# apply the transformer to the input data\n",
    "X_transformed = custom_transformer.transform(X)\n",
    "\n",
    "# view the transformed data\n",
    "print(X_transformed)\n"
   ]
  },
  {
   "cell_type": "code",
   "execution_count": null,
   "id": "c2c9ee8d",
   "metadata": {},
   "outputs": [],
   "source": []
  },
  {
   "cell_type": "code",
   "execution_count": null,
   "id": "993dd1de",
   "metadata": {},
   "outputs": [],
   "source": []
  }
 ],
 "metadata": {
  "kernelspec": {
   "display_name": "Python 3 (ipykernel)",
   "language": "python",
   "name": "python3"
  },
  "language_info": {
   "codemirror_mode": {
    "name": "ipython",
    "version": 3
   },
   "file_extension": ".py",
   "mimetype": "text/x-python",
   "name": "python",
   "nbconvert_exporter": "python",
   "pygments_lexer": "ipython3",
   "version": "3.9.13"
  }
 },
 "nbformat": 4,
 "nbformat_minor": 5
}
