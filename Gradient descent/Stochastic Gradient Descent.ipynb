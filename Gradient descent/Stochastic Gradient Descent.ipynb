{
 "cells": [
  {
   "cell_type": "code",
   "execution_count": 2,
   "id": "505ab5e6",
   "metadata": {},
   "outputs": [],
   "source": [
    "from sklearn.datasets import load_diabetes \n",
    "import numpy as np \n",
    "from sklearn.linear_model import LinearRegression \n",
    "from sklearn.metrics import  r2_score \n",
    "from sklearn.model_selection import train_test_split "
   ]
  },
  {
   "cell_type": "code",
   "execution_count": 3,
   "id": "501c102d",
   "metadata": {},
   "outputs": [
    {
     "name": "stdout",
     "output_type": "stream",
     "text": [
      "(442, 10)\n",
      "(442,)\n"
     ]
    }
   ],
   "source": [
    "X,y = load_diabetes(return_X_y = True) \n",
    "print(X.shape) \n",
    "print(y.shape)"
   ]
  },
  {
   "cell_type": "code",
   "execution_count": 4,
   "id": "6d2c655e",
   "metadata": {},
   "outputs": [],
   "source": [
    "X_train , X_test , y_train , y_test = train_test_split(X,y,test_size = 0.2 ,\n",
    "                                                       random_state = 13)"
   ]
  },
  {
   "cell_type": "code",
   "execution_count": 5,
   "id": "cb9a3d4e",
   "metadata": {},
   "outputs": [
    {
     "data": {
      "text/plain": [
       "LinearRegression()"
      ]
     },
     "execution_count": 5,
     "metadata": {},
     "output_type": "execute_result"
    }
   ],
   "source": [
    "reg = LinearRegression() \n",
    "reg.fit(X_train , y_train) "
   ]
  },
  {
   "cell_type": "code",
   "execution_count": 6,
   "id": "98cbb1d7",
   "metadata": {},
   "outputs": [],
   "source": [
    "y_pred = reg.predict(X_test) "
   ]
  },
  {
   "cell_type": "code",
   "execution_count": 9,
   "id": "3655e7df",
   "metadata": {},
   "outputs": [
    {
     "data": {
      "text/plain": [
       "0.3670188457610625"
      ]
     },
     "execution_count": 9,
     "metadata": {},
     "output_type": "execute_result"
    }
   ],
   "source": [
    "r2_score(y_test , y_pred) "
   ]
  },
  {
   "cell_type": "code",
   "execution_count": 10,
   "id": "27528359",
   "metadata": {},
   "outputs": [],
   "source": [
    "# Now we create our own class "
   ]
  },
  {
   "cell_type": "code",
   "execution_count": 18,
   "id": "23ead9e6",
   "metadata": {},
   "outputs": [],
   "source": [
    "class RegexKaSGDRegressor :\n",
    "    \n",
    "    def __init__(self , learning_rate , epochs):\n",
    "        \n",
    "        self.coef_ = None \n",
    "        self.intercept_ = None \n",
    "        self.lr = learning_rate \n",
    "        self.epochs = epochs \n",
    "        \n",
    "    def fit(self , X_train , y_train):\n",
    "        self.intercept_ = 0 \n",
    "        self.coef_ = np.ones(X_train.shape[1])\n",
    "        \n",
    "        for i in range(self.epochs):\n",
    "            for j in range(X_train.shape[0]):\n",
    "                idx = np.random.randint(0 ,  X_train.shape[0])\n",
    "                \n",
    "                y_hat = np.dot(X_train[idx] , self.coef_) + self.intercept_ \n",
    "                \n",
    "                intercept_der = -2*(y_train[idx] - y_hat) \n",
    "                self.intercept_ = self.intercept_ - (self.lr*intercept_der)\n",
    "                \n",
    "                coef_der = -2*np.dot((y_train[idx] - y_hat) , X_train[idx])\n",
    "                \n",
    "                step_size = self.lr*coef_der \n",
    "                \n",
    "                self.coef_ = self.coef_ - (step_size)\n",
    "                \n",
    "                \n",
    "        print(self.intercept_ , self.coef_)\n",
    "        \n",
    "    def predict(self , X_test):\n",
    "        return np.dot(X_test , self.coef_) + self.intercept_\n",
    "                "
   ]
  },
  {
   "cell_type": "code",
   "execution_count": 19,
   "id": "71c9539d",
   "metadata": {},
   "outputs": [],
   "source": [
    "regex = RegexKaSGDRegressor(learning_rate = 0.01 , epochs = 50)"
   ]
  },
  {
   "cell_type": "code",
   "execution_count": 20,
   "id": "356d15b4",
   "metadata": {},
   "outputs": [
    {
     "name": "stdout",
     "output_type": "stream",
     "text": [
      "152.77191374176127 [  32.30623804  -86.76482182  376.6599674   241.51886489   24.77539582\n",
      "  -14.48545217 -179.13489055  147.97528152  297.4417562   161.52822598]\n"
     ]
    }
   ],
   "source": [
    "regex.fit(X_train , y_train) "
   ]
  },
  {
   "cell_type": "code",
   "execution_count": 21,
   "id": "d7143629",
   "metadata": {},
   "outputs": [],
   "source": [
    "y_pred = regex.predict(X_test) "
   ]
  },
  {
   "cell_type": "code",
   "execution_count": 22,
   "id": "35d49f09",
   "metadata": {},
   "outputs": [
    {
     "data": {
      "text/plain": [
       "0.3892493043145028"
      ]
     },
     "execution_count": 22,
     "metadata": {},
     "output_type": "execute_result"
    }
   ],
   "source": [
    "r2_score(y_test , y_pred) "
   ]
  },
  {
   "cell_type": "code",
   "execution_count": null,
   "id": "e0f3e456",
   "metadata": {},
   "outputs": [],
   "source": []
  }
 ],
 "metadata": {
  "kernelspec": {
   "display_name": "Python 3 (ipykernel)",
   "language": "python",
   "name": "python3"
  },
  "language_info": {
   "codemirror_mode": {
    "name": "ipython",
    "version": 3
   },
   "file_extension": ".py",
   "mimetype": "text/x-python",
   "name": "python",
   "nbconvert_exporter": "python",
   "pygments_lexer": "ipython3",
   "version": "3.9.13"
  }
 },
 "nbformat": 4,
 "nbformat_minor": 5
}
