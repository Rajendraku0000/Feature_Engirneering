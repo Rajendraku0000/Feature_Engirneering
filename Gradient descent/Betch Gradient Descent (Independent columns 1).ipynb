{
 "cells": [
  {
   "cell_type": "code",
   "execution_count": 1,
   "id": "8e6e033e",
   "metadata": {},
   "outputs": [],
   "source": [
    "from sklearn.datasets import make_regression \n",
    "import matplotlib.pyplot as plt \n",
    "import numpy as np "
   ]
  },
  {
   "cell_type": "code",
   "execution_count": 2,
   "id": "93c7b67b",
   "metadata": {},
   "outputs": [],
   "source": [
    "X,y = make_regression(n_samples = 100 , n_features = 1 , n_informative = 1 , n_targets = 1 , noise = 20) \n"
   ]
  },
  {
   "cell_type": "code",
   "execution_count": 3,
   "id": "d06a2dfc",
   "metadata": {},
   "outputs": [
    {
     "data": {
      "text/plain": [
       "<matplotlib.collections.PathCollection at 0x1bb7c9c9970>"
      ]
     },
     "execution_count": 3,
     "metadata": {},
     "output_type": "execute_result"
    },
    {
     "data": {
      "image/png": "[encoded data removed]",
      "text/plain": [
       "<Figure size 640x480 with 1 Axes>"
      ]
     },
     "metadata": {},
     "output_type": "display_data"
    }
   ],
   "source": [
    "plt.scatter(X,y) "
   ]
  },
  {
   "cell_type": "code",
   "execution_count": 4,
   "id": "c069e301",
   "metadata": {},
   "outputs": [],
   "source": [
    "from sklearn.linear_model import LinearRegression "
   ]
  },
  {
   "cell_type": "code",
   "execution_count": 5,
   "id": "06dba9ab",
   "metadata": {},
   "outputs": [],
   "source": [
    "lr = LinearRegression() "
   ]
  },
  {
   "cell_type": "code",
   "execution_count": 6,
   "id": "84ea0e9d",
   "metadata": {},
   "outputs": [
    {
     "name": "stdout",
     "output_type": "stream",
     "text": [
      "[52.76793048]\n",
      "1.3903078470071624\n"
     ]
    }
   ],
   "source": [
    "lr.fit(X,y) \n",
    "print(lr.coef_) \n",
    "print(lr.intercept_)"
   ]
  },
  {
   "cell_type": "code",
   "execution_count": 7,
   "id": "784cf418",
   "metadata": {},
   "outputs": [],
   "source": [
    "m = 15.62"
   ]
  },
  {
   "cell_type": "code",
   "execution_count": 8,
   "id": "48309292",
   "metadata": {},
   "outputs": [],
   "source": [
    "class GDRegressor:\n",
    "    \n",
    "    def __init__(self , learning_rate , epochs):\n",
    "        self.m = 15.62\n",
    "        self.b = 0   # starting i am take this value as 0 \n",
    "        self.lr = learning_rate \n",
    "        self.epochs = epochs \n",
    "        \n",
    "    def fit(self,X,y):\n",
    "        #Calculate the b using GD \n",
    "        for i in range(self.epochs):\n",
    "            loss_slope = -2*np.sum(y - self.m*X.ravel()-self.b)\n",
    "            self.b = self.b - (self.lr * loss_slope)\n",
    "#             print(loss_slope , self.b) \n",
    "        print(self.b)\n",
    "            \n",
    "\n",
    "        "
   ]
  },
  {
   "cell_type": "code",
   "execution_count": 9,
   "id": "53f8a98d",
   "metadata": {},
   "outputs": [],
   "source": [
    "gd  =GDRegressor(0.001 , 100)   # check learning rate and epochs\n"
   ]
  },
  {
   "cell_type": "code",
   "execution_count": 10,
   "id": "e7af20d9",
   "metadata": {},
   "outputs": [
    {
     "name": "stdout",
     "output_type": "stream",
     "text": [
      "-0.6665012672644821\n"
     ]
    }
   ],
   "source": [
    "gd.fit(X,y) "
   ]
  },
  {
   "cell_type": "markdown",
   "id": "3fb6f5bf",
   "metadata": {},
   "source": [
    "# Now this time to check both on m and b "
   ]
  },
  {
   "cell_type": "code",
   "execution_count": 53,
   "id": "2cca49f5",
   "metadata": {},
   "outputs": [],
   "source": [
    "from sklearn.datasets import make_regression \n",
    "import matplotlib.pyplot as plt \n",
    "import numpy as np \n",
    "from sklearn.model_selection import cross_val_score"
   ]
  },
  {
   "cell_type": "code",
   "execution_count": 54,
   "id": "4f3c6bed",
   "metadata": {},
   "outputs": [],
   "source": [
    "X,y = make_regression(n_samples = 100 , n_features = 1 ,\n",
    "                      n_informative = 1 , n_targets = 1 , noise = 20 , random_state = 13)"
   ]
  },
  {
   "cell_type": "code",
   "execution_count": 55,
   "id": "890de82e",
   "metadata": {},
   "outputs": [
    {
     "data": {
      "text/plain": [
       "<matplotlib.collections.PathCollection at 0x2404cc1e0a0>"
      ]
     },
     "execution_count": 55,
     "metadata": {},
     "output_type": "execute_result"
    },
    {
     "data": {
      "image/png": "[encoded data removed]",
      "text/plain": [
       "<Figure size 432x288 with 1 Axes>"
      ]
     },
     "metadata": {
      "needs_background": "light"
     },
     "output_type": "display_data"
    }
   ],
   "source": [
    "plt.scatter(X,y) "
   ]
  },
  {
   "cell_type": "code",
   "execution_count": 56,
   "id": "75f1f36d",
   "metadata": {},
   "outputs": [],
   "source": [
    "from sklearn.model_selection import train_test_split \n",
    "X_train , X_test  ,y_train , y_test = train_test_split(X,y,test_size = 0.2 , random_state=2)"
   ]
  },
  {
   "cell_type": "code",
   "execution_count": null,
   "id": "f360eed8",
   "metadata": {},
   "outputs": [],
   "source": []
  },
  {
   "cell_type": "code",
   "execution_count": 57,
   "id": "66489552",
   "metadata": {},
   "outputs": [],
   "source": [
    "lr = LinearRegression() "
   ]
  },
  {
   "cell_type": "code",
   "execution_count": 58,
   "id": "0d3c8ebf",
   "metadata": {},
   "outputs": [
    {
     "name": "stdout",
     "output_type": "stream",
     "text": [
      "[28.12597332]\n",
      "-2.271014426178382\n"
     ]
    }
   ],
   "source": [
    "lr.fit(X_train,y_train) \n",
    "print(lr.coef_) \n",
    "print(lr.intercept_) "
   ]
  },
  {
   "cell_type": "code",
   "execution_count": 59,
   "id": "35942d33",
   "metadata": {},
   "outputs": [
    {
     "data": {
      "text/plain": [
       "0.6345158782661013"
      ]
     },
     "execution_count": 59,
     "metadata": {},
     "output_type": "execute_result"
    }
   ],
   "source": [
    "# np.mean(cross_val_score(lr , X,y, scoring ='r2' , cv = 10 ))\n",
    "\n",
    "\n",
    "y_pred = lr.predict(X_test) \n",
    "from sklearn.metrics import r2_score \n",
    "r2_score(y_test , y_pred) "
   ]
  },
  {
   "cell_type": "code",
   "execution_count": 60,
   "id": "f65532f7",
   "metadata": {},
   "outputs": [],
   "source": [
    "class GDRegressor : \n",
    "    \n",
    "    def __init__(self , learning_rate , epochs):\n",
    "        self.m = 100   # we can start any number as like m = 0 \n",
    "        self.b = -120  # we can start any number as like b = 1 \n",
    "        self.lr = learning_rate \n",
    "        self.epochs = epochs \n",
    "        \n",
    "    def fit(self , X,y):\n",
    "        #Calculate the b using GD \n",
    "        for i in range(self.epochs):\n",
    "            loss_slope_b = -2*np.sum(y - self.m*X.ravel() - self.b)\n",
    "            loss_slope_m = -2*np.sum((y - self.m*X.ravel() - self.b)*X.ravel())  \n",
    "            \n",
    "            self.b = self.b - (self.lr * loss_slope_b)\n",
    "            self.m = self.m - (self.lr * loss_slope_m) \n",
    "        print(self.b , self.m)  \n",
    "        \n",
    "    def predict(self , X):\n",
    "        return self.m * X + self.b \n",
    "        "
   ]
  },
  {
   "cell_type": "code",
   "execution_count": 61,
   "id": "3e6df76c",
   "metadata": {},
   "outputs": [],
   "source": [
    "gd = GDRegressor(0.001 , 100)"
   ]
  },
  {
   "cell_type": "code",
   "execution_count": 62,
   "id": "de1b2b6a",
   "metadata": {},
   "outputs": [
    {
     "name": "stdout",
     "output_type": "stream",
     "text": [
      "-2.2710234077993587 28.12598618006269\n"
     ]
    }
   ],
   "source": [
    "gd.fit(X_train,y_train) "
   ]
  },
  {
   "cell_type": "code",
   "execution_count": 63,
   "id": "3afa2b9c",
   "metadata": {},
   "outputs": [],
   "source": [
    "# gd.predict(X)"
   ]
  },
  {
   "cell_type": "code",
   "execution_count": 64,
   "id": "1a0a629f",
   "metadata": {},
   "outputs": [
    {
     "data": {
      "text/plain": [
       "0.634515826773629"
      ]
     },
     "execution_count": 64,
     "metadata": {},
     "output_type": "execute_result"
    }
   ],
   "source": [
    "y_pred = gd.predict(X_test) \n",
    "from sklearn.metrics import r2_score \n",
    "r2_score(y_test , y_pred)"
   ]
  },
  {
   "cell_type": "code",
   "execution_count": null,
   "id": "98556db0",
   "metadata": {},
   "outputs": [],
   "source": []
  }
 ],
 "metadata": {
  "kernelspec": {
   "display_name": "Python 3 (ipykernel)",
   "language": "python",
   "name": "python3"
  },
  "language_info": {
   "codemirror_mode": {
    "name": "ipython",
    "version": 3
   },
   "file_extension": ".py",
   "mimetype": "text/x-python",
   "name": "python",
   "nbconvert_exporter": "python",
   "pygments_lexer": "ipython3",
   "version": "3.9.13"
  }
 },
 "nbformat": 4,
 "nbformat_minor": 5
}
