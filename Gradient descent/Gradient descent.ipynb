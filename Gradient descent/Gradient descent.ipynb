{
 "cells": [
  {
   "cell_type": "code",
   "execution_count": 1,
   "id": "8f17ee88",
   "metadata": {},
   "outputs": [],
   "source": [
    "import numpy as np \n",
    "import pandas as pd "
   ]
  },
  {
   "cell_type": "code",
   "execution_count": 2,
   "id": "d169cc65",
   "metadata": {},
   "outputs": [],
   "source": [
    "from sklearn.datasets import make_regression"
   ]
  },
  {
   "cell_type": "code",
   "execution_count": 3,
   "id": "81bcd10a",
   "metadata": {},
   "outputs": [],
   "source": [
    "X , y = make_regression(n_samples = 4 , n_features = 1 , n_informative = 1 , \n",
    "                        n_targets = 1 , noise = 80 , random_state = 13)"
   ]
  },
  {
   "cell_type": "code",
   "execution_count": 4,
   "id": "2f55da79",
   "metadata": {},
   "outputs": [],
   "source": [
    "import matplotlib.pyplot as plt \n"
   ]
  },
  {
   "cell_type": "code",
   "execution_count": 5,
   "id": "88d079f7",
   "metadata": {},
   "outputs": [
    {
     "data": {
      "text/plain": [
       "<matplotlib.collections.PathCollection at 0x1b475589eb0>"
      ]
     },
     "execution_count": 5,
     "metadata": {},
     "output_type": "execute_result"
    },
    {
     "data": {
      "image/png": "[encoded data removed]",
      "text/plain": [
       "<Figure size 432x288 with 1 Axes>"
      ]
     },
     "metadata": {
      "needs_background": "light"
     },
     "output_type": "display_data"
    }
   ],
   "source": [
    "plt.scatter(X,y) "
   ]
  },
  {
   "cell_type": "code",
   "execution_count": 6,
   "id": "a6f5a81b",
   "metadata": {},
   "outputs": [],
   "source": [
    "from sklearn.linear_model import LinearRegression "
   ]
  },
  {
   "cell_type": "code",
   "execution_count": 7,
   "id": "19e20ba2",
   "metadata": {},
   "outputs": [],
   "source": [
    "reg = LinearRegression() "
   ]
  },
  {
   "cell_type": "code",
   "execution_count": 8,
   "id": "d8fcbace",
   "metadata": {},
   "outputs": [
    {
     "data": {
      "text/plain": [
       "LinearRegression()"
      ]
     },
     "execution_count": 8,
     "metadata": {},
     "output_type": "execute_result"
    }
   ],
   "source": [
    "reg.fit(X,y) "
   ]
  },
  {
   "cell_type": "code",
   "execution_count": 11,
   "id": "30845f3b",
   "metadata": {},
   "outputs": [
    {
     "data": {
      "text/plain": [
       "LinearRegression(normalize=False)"
      ]
     },
     "execution_count": 11,
     "metadata": {},
     "output_type": "execute_result"
    }
   ],
   "source": [
    "LinearRegression(copy_X = True , fit_intercept = True ,  n_jobs = None , normalize = False)"
   ]
  },
  {
   "cell_type": "code",
   "execution_count": 12,
   "id": "e2c114b2",
   "metadata": {},
   "outputs": [
    {
     "data": {
      "text/plain": [
       "array([78.35063668])"
      ]
     },
     "execution_count": 12,
     "metadata": {},
     "output_type": "execute_result"
    }
   ],
   "source": [
    "# slope   (coff..) \n",
    "reg.coef_"
   ]
  },
  {
   "cell_type": "code",
   "execution_count": 13,
   "id": "818428c8",
   "metadata": {},
   "outputs": [
    {
     "data": {
      "text/plain": [
       "26.15963284313262"
      ]
     },
     "execution_count": 13,
     "metadata": {},
     "output_type": "execute_result"
    }
   ],
   "source": [
    "reg.intercept_"
   ]
  },
  {
   "cell_type": "code",
   "execution_count": 15,
   "id": "1864c565",
   "metadata": {},
   "outputs": [
    {
     "data": {
      "text/plain": [
       "[<matplotlib.lines.Line2D at 0x1b477afd2b0>]"
      ]
     },
     "execution_count": 15,
     "metadata": {},
     "output_type": "execute_result"
    },
    {
     "data": {
      "image/png": "[encoded data removed]",
      "text/plain": [
       "<Figure size 432x288 with 1 Axes>"
      ]
     },
     "metadata": {
      "needs_background": "light"
     },
     "output_type": "display_data"
    }
   ],
   "source": [
    "plt.scatter(X,y) \n",
    "plt.plot(X , reg.predict(X) , color = 'red') "
   ]
  },
  {
   "cell_type": "code",
   "execution_count": 18,
   "id": "f332e79f",
   "metadata": {},
   "outputs": [
    {
     "data": {
      "text/plain": [
       "array([-55.81580837,  35.39949674,  -3.48681619,  59.05759577])"
      ]
     },
     "execution_count": 18,
     "metadata": {},
     "output_type": "execute_result"
    }
   ],
   "source": [
    "m = 78.35 \n",
    "b = 0 \n",
    "# y_pred = mx+b \n",
    "y_pred = ((78.35*X)+0).reshape(4) \n",
    "y_pred"
   ]
  },
  {
   "cell_type": "code",
   "execution_count": 24,
   "id": "a2a323cd",
   "metadata": {},
   "outputs": [
    {
     "data": {
      "image/png": "[encoded data removed]",
      "text/plain": [
       "<Figure size 432x288 with 1 Axes>"
      ]
     },
     "metadata": {
      "needs_background": "light"
     },
     "output_type": "display_data"
    }
   ],
   "source": [
    "plt.scatter(X,y) \n",
    "plt.plot(X , reg.predict(X) , color = 'red' , label = 'OLS')\n",
    "plt.plot(X , y_pred , color = 'green' , label = 'b = 0') \n",
    "plt.legend() \n",
    "plt.show() "
   ]
  },
  {
   "cell_type": "code",
   "execution_count": 25,
   "id": "d66fdb39",
   "metadata": {},
   "outputs": [
    {
     "data": {
      "text/plain": [
       "-209.27763408209216"
      ]
     },
     "execution_count": 25,
     "metadata": {},
     "output_type": "execute_result"
    }
   ],
   "source": [
    "m = 78.35 \n",
    "b = 0 \n",
    "loss_slope = -2*np.sum(y - m*X.ravel()-b) \n",
    "loss_slope"
   ]
  },
  {
   "cell_type": "code",
   "execution_count": 26,
   "id": "020f2181",
   "metadata": {},
   "outputs": [
    {
     "data": {
      "text/plain": [
       "-20.927763408209216"
      ]
     },
     "execution_count": 26,
     "metadata": {},
     "output_type": "execute_result"
    }
   ],
   "source": [
    "# step-1  \n",
    "# learning_rate = 0.1 \n",
    "lr = 0.1 \n",
    "step_size = loss_slope*lr \n",
    "step_size"
   ]
  },
  {
   "cell_type": "code",
   "execution_count": 27,
   "id": "0fa0fd88",
   "metadata": {},
   "outputs": [
    {
     "data": {
      "text/plain": [
       "20.927763408209216"
      ]
     },
     "execution_count": 27,
     "metadata": {},
     "output_type": "execute_result"
    }
   ],
   "source": [
    "# calculate new intercept \n",
    "b = b - step_size \n",
    "b"
   ]
  },
  {
   "cell_type": "code",
   "execution_count": 28,
   "id": "10bbe461",
   "metadata": {},
   "outputs": [
    {
     "data": {
      "text/plain": [
       "array([-34.88804496,  56.32726015,  17.44094722,  79.98535918])"
      ]
     },
     "execution_count": 28,
     "metadata": {},
     "output_type": "execute_result"
    }
   ],
   "source": [
    "y_pred1 = ((78.35*X)+b).reshape(4) \n",
    "y_pred1"
   ]
  },
  {
   "cell_type": "code",
   "execution_count": 35,
   "id": "4cd110a0",
   "metadata": {},
   "outputs": [
    {
     "data": {
      "image/png": "[encoded data removed]",
      "text/plain": [
       "<Figure size 432x288 with 1 Axes>"
      ]
     },
     "metadata": {
      "needs_background": "light"
     },
     "output_type": "display_data"
    }
   ],
   "source": [
    "plt.scatter(X,y) \n",
    "plt.plot(X,reg.predict(X) , color = 'red' , label = 'OLS')\n",
    "plt.plot(X , y_pred1 , color = 'black' , label = 'b = 20.9277634') \n",
    "plt.plot(X , y_pred , color = 'green' , label = 'b = 0') \n",
    "plt.legend() \n",
    "plt.show()"
   ]
  },
  {
   "cell_type": "code",
   "execution_count": null,
   "id": "9760ebce",
   "metadata": {},
   "outputs": [],
   "source": []
  }
 ],
 "metadata": {
  "kernelspec": {
   "display_name": "Python 3 (ipykernel)",
   "language": "python",
   "name": "python3"
  },
  "language_info": {
   "codemirror_mode": {
    "name": "ipython",
    "version": 3
   },
   "file_extension": ".py",
   "mimetype": "text/x-python",
   "name": "python",
   "nbconvert_exporter": "python",
   "pygments_lexer": "ipython3",
   "version": "3.9.13"
  }
 },
 "nbformat": 4,
 "nbformat_minor": 5
}
