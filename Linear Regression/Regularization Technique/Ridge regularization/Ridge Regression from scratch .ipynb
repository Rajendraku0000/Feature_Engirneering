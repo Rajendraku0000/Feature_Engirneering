{
 "cells": [
  {
   "cell_type": "markdown",
   "id": "6959f74b",
   "metadata": {},
   "source": [
    "# Ridge regression is a regularization technique used in statistical regression analysis to deal with multicollinearity (high correlation between predictor variables) and overfitting. It is an extension of ordinary least squares regression that adds a penalty term to the loss function, which helps to reduce the magnitude of the coefficients.\n",
    "\n",
    "In ridge regression, the loss function minimizes the sum of squared errors between the predicted values and the actual values, but it also includes a regularization term that penalizes large coefficients. The regularization term is calculated as the sum of squared values of the coefficients multiplied by a hyperparameter called the regularization parameter (λ or alpha). By adjusting the value of λ, we can control the amount of shrinkage applied to the coefficients."
   ]
  },
  {
   "cell_type": "code",
   "execution_count": 1,
   "id": "f2b3e6eb",
   "metadata": {},
   "outputs": [],
   "source": [
    "import numpy as np "
   ]
  },
  {
   "cell_type": "code",
   "execution_count": 2,
   "id": "6e7e7e04",
   "metadata": {},
   "outputs": [],
   "source": [
    "from sklearn.metrics import mean_squared_error "
   ]
  },
  {
   "cell_type": "code",
   "execution_count": 3,
   "id": "e42ba1e3",
   "metadata": {},
   "outputs": [],
   "source": [
    "# Generate some random data for demonstration\n",
    "np.random.seed(42)\n",
    "X = np.random.rand(100, 5)\n",
    "y = 2 * X[:, 0] + 3 * X[:, 1] - 5 * X[:, 2] + np.random.randn(100)"
   ]
  },
  {
   "cell_type": "code",
   "execution_count": 4,
   "id": "95962f3b",
   "metadata": {},
   "outputs": [],
   "source": [
    "from sklearn.model_selection import train_test_split "
   ]
  },
  {
   "cell_type": "code",
   "execution_count": 5,
   "id": "4d4a86fa",
   "metadata": {},
   "outputs": [],
   "source": [
    "X_train , X_test , y_train,  y_test = train_test_split(X,y,test_size = 0.2 , random_state = 42) "
   ]
  },
  {
   "cell_type": "code",
   "execution_count": 6,
   "id": "70c34d1a",
   "metadata": {},
   "outputs": [],
   "source": [
    "from  sklearn.preprocessing import StandardScaler "
   ]
  },
  {
   "cell_type": "code",
   "execution_count": 7,
   "id": "1bd630a7",
   "metadata": {},
   "outputs": [],
   "source": [
    "sc= StandardScaler() "
   ]
  },
  {
   "cell_type": "code",
   "execution_count": 8,
   "id": "312dc6f2",
   "metadata": {},
   "outputs": [],
   "source": [
    "X_train_scaled = sc.fit_transform(X_train)\n",
    "X_test_scaled = sc.transform(X_test)"
   ]
  },
  {
   "cell_type": "code",
   "execution_count": 9,
   "id": "d9e625b5",
   "metadata": {},
   "outputs": [],
   "source": [
    "from sklearn.linear_model import Ridge"
   ]
  },
  {
   "cell_type": "code",
   "execution_count": 10,
   "id": "a5010a1f",
   "metadata": {},
   "outputs": [],
   "source": [
    "# Create a Ridge regression model\n",
    "ridge = Ridge(alpha=1.0)  # alpha is the regularization parameter (λ)"
   ]
  },
  {
   "cell_type": "code",
   "execution_count": 11,
   "id": "b8543fa0",
   "metadata": {},
   "outputs": [
    {
     "data": {
      "text/plain": [
       "Ridge()"
      ]
     },
     "execution_count": 11,
     "metadata": {},
     "output_type": "execute_result"
    }
   ],
   "source": [
    "ridge.fit(X_train_scaled , y_train) "
   ]
  },
  {
   "cell_type": "code",
   "execution_count": 12,
   "id": "b025c7ae",
   "metadata": {},
   "outputs": [],
   "source": [
    "y_pred = ridge.predict(X_test_scaled) "
   ]
  },
  {
   "cell_type": "code",
   "execution_count": 13,
   "id": "b643db1a",
   "metadata": {},
   "outputs": [],
   "source": [
    "from sklearn.metrics import mean_squared_error "
   ]
  },
  {
   "cell_type": "code",
   "execution_count": 14,
   "id": "62dbd8f0",
   "metadata": {},
   "outputs": [],
   "source": [
    "mse = mean_squared_error(y_test , y_pred)"
   ]
  },
  {
   "cell_type": "code",
   "execution_count": 15,
   "id": "b3529bcb",
   "metadata": {},
   "outputs": [
    {
     "name": "stdout",
     "output_type": "stream",
     "text": [
      "Mean Squared Error : 0.9807944930891154\n",
      "Ridge Coefficient is : [ 0.49459928  0.82161918 -1.25992254  0.04516531 -0.13896937]\n",
      "Ridge Intercept is : 0.23287376962200315\n"
     ]
    }
   ],
   "source": [
    "print(\"Mean Squared Error :\" , mse)\n",
    "print(\"Ridge Coefficient is :\" , ridge.coef_)\n",
    "print(\"Ridge Intercept is :\" , ridge.intercept_)"
   ]
  },
  {
   "cell_type": "markdown",
   "id": "d1a26fbc",
   "metadata": {},
   "source": [
    "# how i select alpha parameter value for ridge regression ?  "
   ]
  },
  {
   "cell_type": "markdown",
   "id": "62f43d44",
   "metadata": {},
   "source": [
    "# The choice of alpha determines the trade-off between fitting the training data\n",
    "# well and keeping the coefficients small to avoid overfitting.\n",
    "\n",
    "# (1). Grid Search: This method involves evaluating the model's performance for different\n",
    "#     values of alpha and selecting the one that gives the best results. We can define a range \n",
    "#     of alpha values and iterate over them, training and evaluating the model using techniques like cross-validation. \n",
    "#     Scikit-learn provides the GridSearchCV class that automates this process."
   ]
  },
  {
   "cell_type": "code",
   "execution_count": 16,
   "id": "138ce86e",
   "metadata": {},
   "outputs": [
    {
     "data": {
      "text/plain": [
       "1.0"
      ]
     },
     "execution_count": 16,
     "metadata": {},
     "output_type": "execute_result"
    }
   ],
   "source": [
    "from sklearn.model_selection import GridSearchCV \n",
    "\n",
    "# Define a range of alpha values \n",
    "alphas = [0.1 , 1.0 , 10.0] \n",
    "\n",
    "# create ridge model \n",
    "ridge = Ridge() \n",
    "\n",
    "# Perform grid search to find the best alpha\n",
    "grid = GridSearchCV(ridge, param_grid={'alpha': alphas}, cv=5)\n",
    "grid.fit(X_train_scaled, y_train)\n",
    "\n",
    "# Get the best alpha value \n",
    "best_alpha = grid.best_params_['alpha']\n",
    "best_alpha"
   ]
  },
  {
   "cell_type": "code",
   "execution_count": 17,
   "id": "b29af66f",
   "metadata": {},
   "outputs": [],
   "source": [
    "# (2) . Cross-Validation: Another approach is to use cross-validation to estimate the performance of the model \n",
    "#     for different alpha values. You can evaluate the model using different folds of the training data and \n",
    "#     compute the average performance. \n",
    "#     Scikit-learn provides the cross_val_score function for this purpose."
   ]
  },
  {
   "cell_type": "code",
   "execution_count": 18,
   "id": "7cb351ea",
   "metadata": {},
   "outputs": [],
   "source": [
    "from sklearn.model_selection import cross_val_score\n",
    "\n",
    "# Define a range of alpha values\n",
    "alphas = [0.1, 1.0, 10.0]\n",
    "\n",
    "# Create a Ridge regression model\n",
    "ridge = Ridge()"
   ]
  },
  {
   "cell_type": "code",
   "execution_count": 19,
   "id": "14b2e9fe",
   "metadata": {},
   "outputs": [],
   "source": [
    "# Perform cross-validation to estimate performance for each alpha\n",
    "mse_scores = [] \n",
    "for  alpha in alphas :\n",
    "    ridge.alpha = alpha \n",
    "    scores = cross_val_score(ridge , X_train_scaled , y_train , cv = 5  , scoring = 'neg_mean_squared_error') \n",
    "    mse_scores.append(np.mean(-scores)) \n",
    "    \n",
    "# Find the best alpha with the lowest MSE score \n",
    "best_alpha = alphas[np.argmin(mse_scores)] "
   ]
  },
  {
   "cell_type": "code",
   "execution_count": 20,
   "id": "2a65cf61",
   "metadata": {},
   "outputs": [],
   "source": [
    "# (3). Regularization Path: The regularization path shows the effect of different alpha values on the coefficients of\n",
    "#     the ridge regression model. By plotting the coefficients against different alpha values, you can observe how they change. \n",
    "#     This visualization can help you understand the effect of regularization and identify a suitable alpha value."
   ]
  },
  {
   "cell_type": "code",
   "execution_count": 21,
   "id": "fd89d994",
   "metadata": {},
   "outputs": [
    {
     "data": {
      "image/png": "[encoded data removed]",
      "text/plain": [
       "<Figure size 1000x600 with 1 Axes>"
      ]
     },
     "metadata": {},
     "output_type": "display_data"
    }
   ],
   "source": [
    "import matplotlib.pyplot as plt \n",
    "# Create a Ridge regression model \n",
    "\n",
    "ridge = Ridge() \n",
    "\n",
    "# Calculate the regularization path \n",
    "alphas = np.logspace(-3,3,num=100) \n",
    "coefs = [] \n",
    "for alpha in alphas :\n",
    "    ridge.alphas = alpha \n",
    "    ridge.fit(X_train_scaled , y_train) \n",
    "    coefs.append(ridge.coef_) \n",
    "    \n",
    "# Plot the coefficients against alpha \n",
    "plt.figure(figsize=(10, 6))\n",
    "for i in range(X_train_scaled.shape[1]):\n",
    "    plt.plot(alphas, np.array(coefs)[:, i], label='Feature {}'.format(i+1))\n",
    "plt.xscale('log')\n",
    "plt.xlabel('Alpha')\n",
    "plt.ylabel('Coefficient')\n",
    "plt.title('Ridge Regression Coefficients')\n",
    "plt.legend()\n",
    "plt.show()"
   ]
  },
  {
   "cell_type": "markdown",
   "id": "0f92b81f",
   "metadata": {},
   "source": [
    "# Apply on a data"
   ]
  },
  {
   "cell_type": "code",
   "execution_count": 22,
   "id": "2a8ab9b6",
   "metadata": {},
   "outputs": [],
   "source": [
    "import numpy as np\n",
    "import pandas as pd\n",
    "import matplotlib.pyplot as plt\n",
    "\n",
    "\n",
    "from sklearn.datasets import load_diabetes\n",
    "\n",
    "df=load_diabetes()\n",
    "\n",
    "# print(df.DESCR)"
   ]
  },
  {
   "cell_type": "code",
   "execution_count": 23,
   "id": "8f01a475",
   "metadata": {},
   "outputs": [],
   "source": [
    "X = df.data \n",
    "y = df.target "
   ]
  },
  {
   "cell_type": "code",
   "execution_count": 24,
   "id": "9975551a",
   "metadata": {},
   "outputs": [],
   "source": [
    "from sklearn.model_selection import train_test_split \n",
    "X_train , X_test , y_train , y_test = train_test_split(X,y,test_size = 0.2 , random_state = 42) "
   ]
  },
  {
   "cell_type": "code",
   "execution_count": 25,
   "id": "b8adcd20",
   "metadata": {},
   "outputs": [],
   "source": [
    "from sklearn.linear_model import LinearRegression "
   ]
  },
  {
   "cell_type": "code",
   "execution_count": 26,
   "id": "1911f2e2",
   "metadata": {},
   "outputs": [],
   "source": [
    "lr = LinearRegression() "
   ]
  },
  {
   "cell_type": "code",
   "execution_count": 27,
   "id": "692be4d1",
   "metadata": {},
   "outputs": [
    {
     "data": {
      "text/plain": [
       "LinearRegression()"
      ]
     },
     "execution_count": 27,
     "metadata": {},
     "output_type": "execute_result"
    }
   ],
   "source": [
    "lr.fit(X_train , y_train) "
   ]
  },
  {
   "cell_type": "code",
   "execution_count": 28,
   "id": "d979c7ee",
   "metadata": {},
   "outputs": [
    {
     "data": {
      "text/plain": [
       "array([  37.90031426, -241.96624835,  542.42575342,  347.70830529,\n",
       "       -931.46126093,  518.04405547,  163.40353476,  275.31003837,\n",
       "        736.18909839,   48.67112488])"
      ]
     },
     "execution_count": 28,
     "metadata": {},
     "output_type": "execute_result"
    }
   ],
   "source": [
    "lr.coef_"
   ]
  },
  {
   "cell_type": "code",
   "execution_count": 29,
   "id": "c532704a",
   "metadata": {},
   "outputs": [
    {
     "data": {
      "text/plain": [
       "151.3456553477407"
      ]
     },
     "execution_count": 29,
     "metadata": {},
     "output_type": "execute_result"
    }
   ],
   "source": [
    "lr.intercept_"
   ]
  },
  {
   "cell_type": "code",
   "execution_count": 30,
   "id": "59bc3c00",
   "metadata": {},
   "outputs": [],
   "source": [
    "y_pred = lr.predict(X_test) "
   ]
  },
  {
   "cell_type": "code",
   "execution_count": 31,
   "id": "a40c5b00",
   "metadata": {},
   "outputs": [],
   "source": [
    "from sklearn.metrics import r2_score , mean_squared_error "
   ]
  },
  {
   "cell_type": "code",
   "execution_count": 32,
   "id": "e06c0087",
   "metadata": {},
   "outputs": [
    {
     "name": "stdout",
     "output_type": "stream",
     "text": [
      "R2 Score : 0.452606602161738\n",
      "Mean Squared Error : 2900.1732878832318\n"
     ]
    }
   ],
   "source": [
    "print(\"R2 Score :\" , r2_score(y_test , y_pred)) \n",
    "print(\"Mean Squared Error :\" , mean_squared_error(y_test , y_pred)) "
   ]
  },
  {
   "cell_type": "code",
   "execution_count": 33,
   "id": "45a8aac1",
   "metadata": {},
   "outputs": [
    {
     "data": {
      "image/png": "[encoded data removed]",
      "text/plain": [
       "<Figure size 640x480 with 1 Axes>"
      ]
     },
     "metadata": {},
     "output_type": "display_data"
    }
   ],
   "source": [
    "m = 100\n",
    "x1 = 5 * np.random.rand(m, 1) - 2\n",
    "x2 = 0.7 * x1 ** 2 - 2 * x1 + 3 + np.random.randn(m, 1)\n",
    "plt.scatter(x1, x2)\n",
    "plt.show()"
   ]
  },
  {
   "cell_type": "code",
   "execution_count": 34,
   "id": "3c1902bb",
   "metadata": {},
   "outputs": [
    {
     "data": {
      "image/png": "[encoded data removed]",
      "text/plain": [
       "<Figure size 1000x600 with 1 Axes>"
      ]
     },
     "metadata": {},
     "output_type": "display_data"
    }
   ],
   "source": [
    "from sklearn.pipeline import Pipeline\n",
    "from sklearn.preprocessing import PolynomialFeatures\n",
    "\n",
    "def get_preds_ridge(x1, x2, alpha):\n",
    "    model = Pipeline([\n",
    "        ('poly_feats', PolynomialFeatures(degree=16)),\n",
    "        ('ridge', Ridge(alpha=alpha))\n",
    "    ])\n",
    "    model.fit(x1, x2)\n",
    "    return model.predict(x1)\n",
    "\n",
    "alphas = [0, 20, 200]\n",
    "cs = ['r', 'g', 'b']\n",
    "\n",
    "plt.figure(figsize=(10, 6))\n",
    "plt.plot(x1, x2, 'b+', label='Datapoints')\n",
    "\n",
    "for alpha, c in zip(alphas, cs):\n",
    "    preds = get_preds_ridge(x1, x2, alpha)\n",
    "    # Plot\n",
    "    plt.plot(sorted(x1[:, 0]), preds[np.argsort(x1[:, 0])], c, label='Alpha: {}'.format(alpha))\n",
    "\n",
    "plt.legend()\n",
    "plt.show()"
   ]
  },
  {
   "cell_type": "markdown",
   "id": "f744bdf5",
   "metadata": {},
   "source": [
    "# Ridge Regression gradient Descent "
   ]
  },
  {
   "cell_type": "code",
   "execution_count": 35,
   "id": "0ea03228",
   "metadata": {},
   "outputs": [],
   "source": [
    "from sklearn.datasets import load_diabetes \n",
    "import numpy as np \n",
    "from sklearn.metrics import r2_score \n"
   ]
  },
  {
   "cell_type": "code",
   "execution_count": 36,
   "id": "35376a9b",
   "metadata": {},
   "outputs": [],
   "source": [
    "X,y = load_diabetes(return_X_y = True) "
   ]
  },
  {
   "cell_type": "code",
   "execution_count": 37,
   "id": "2c688f42",
   "metadata": {},
   "outputs": [],
   "source": [
    "from sklearn.model_selection import train_test_split "
   ]
  },
  {
   "cell_type": "code",
   "execution_count": 38,
   "id": "6a438413",
   "metadata": {},
   "outputs": [],
   "source": [
    "X_train , X_test , y_train , y_test = train_test_split(X,y,test_size = 0.2 , random_state = 4) "
   ]
  },
  {
   "cell_type": "code",
   "execution_count": 39,
   "id": "b5b23011",
   "metadata": {},
   "outputs": [],
   "source": [
    "from sklearn.linear_model import SGDRegressor "
   ]
  },
  {
   "cell_type": "markdown",
   "id": "72414683",
   "metadata": {},
   "source": [
    "# penalty='l2': This parameter specifies the regularization term to be used in the regression algorithm. In this case, 'l2' refers to Ridge regularization, which adds the squared sum of the coefficients multiplied by a regularization parameter to the loss function. This penalty helps prevent overfitting by shrinking the coefficients towards zero.\n",
    "    \n",
    "    \n",
    "\n",
    "max_iter=500: This parameter sets the maximum number of iterations for the solver to converge. The solver uses an iterative optimization algorithm to find the optimal coefficients that minimize the loss function. The maximum number of iterations ensures that the solver stops if it does not converge within the specified limit.\n",
    "    \n",
    "    \n",
    "\n",
    "eta0=0.1: This parameter defines the initial learning rate. The learning rate controls the step size taken during each iteration of the optimization algorithm. It determines how much the coefficients are updated based on the gradient of the loss function. In this case, the initial learning rate is set to 0.1.\n",
    "    \n",
    "    \n",
    "\n",
    "learning_rate='constant': This parameter determines the learning rate schedule. 'constant' means that the learning rate remains constant throughout the optimization process. Other options include 'optimal' (adaptive learning rate based on a heuristic) and 'invscaling' (gradually decreasing learning rate).\n",
    "    \n",
    "    \n",
    "\n",
    "alpha=0.001: This parameter represents the regularization strength or the inverse of the regularization parameter. A smaller value of alpha indicates a stronger regularization effect. It helps control the trade-off between fitting the training data well and keeping the model's coefficients small.\n",
    "    \n",
    "    "
   ]
  },
  {
   "cell_type": "code",
   "execution_count": 40,
   "id": "852d04b8",
   "metadata": {},
   "outputs": [],
   "source": [
    "reg = SGDRegressor(penalty = 'l2' , max_iter = 500 , eta0 = 0.1 , learning_rate = 'constant' , alpha = 0.001) "
   ]
  },
  {
   "cell_type": "code",
   "execution_count": 41,
   "id": "0da09942",
   "metadata": {},
   "outputs": [
    {
     "data": {
      "text/plain": [
       "SGDRegressor(alpha=0.001, eta0=0.1, learning_rate='constant', max_iter=500)"
      ]
     },
     "execution_count": 41,
     "metadata": {},
     "output_type": "execute_result"
    }
   ],
   "source": [
    "reg.fit(X_train , y_train) "
   ]
  },
  {
   "cell_type": "code",
   "execution_count": 42,
   "id": "dbef84f5",
   "metadata": {},
   "outputs": [],
   "source": [
    "y_pred = reg.predict(X_test) "
   ]
  },
  {
   "cell_type": "code",
   "execution_count": 43,
   "id": "e75a40e6",
   "metadata": {},
   "outputs": [
    {
     "name": "stdout",
     "output_type": "stream",
     "text": [
      "R2-SCORE :  0.45617767751040694\n",
      "Slope: [  52.02380864 -149.37622755  364.53133269  267.31384517   -3.57272532\n",
      "  -52.20933488 -173.09186426  141.4947497   323.07326765   98.11038835]\n",
      "Intercept : [160.34125155]\n"
     ]
    }
   ],
   "source": [
    "print(\"R2-SCORE : \" , r2_score(y_test , y_pred)) \n",
    "print(\"Slope:\" , reg.coef_)\n",
    "print(\"Intercept :\" , reg.intercept_)"
   ]
  },
  {
   "cell_type": "markdown",
   "id": "39956f32",
   "metadata": {},
   "source": [
    "# alpha=0.001: This parameter represents the regularization strength or the inverse of the regularization parameter. A smaller value of alpha indicates a stronger regularization effect. It helps control the trade-off between fitting the training data well and keeping the model's coefficients small. In this case, the regularization strength is set to 0.001.\n",
    "    \n",
    "\n",
    "max_iter=500: This parameter sets the maximum number of iterations for the solver to converge. The solver uses an iterative optimization algorithm to find the optimal coefficients that minimize the loss function. The maximum number of iterations ensures that the solver stops if it does not converge within the specified limit.\n",
    "    \n",
    "\n",
    "solver='sparse_cg': This parameter determines the solver algorithm to use. 'sparse_cg' refers to the conjugate gradient solver, which is suitable for solving large-scale linear regression problems with sparse data. Other options for the solver parameter include 'auto' (chooses the best solver automatically based on the problem), 'svd' (uses Singular Value Decomposition), and 'cholesky' (uses the closed-form solution based on Cholesky factorization).\n",
    "    "
   ]
  },
  {
   "cell_type": "code",
   "execution_count": 44,
   "id": "c14ea6ae",
   "metadata": {},
   "outputs": [],
   "source": [
    "from sklearn.linear_model import Ridge \n"
   ]
  },
  {
   "cell_type": "code",
   "execution_count": 45,
   "id": "5faf7cf0",
   "metadata": {},
   "outputs": [],
   "source": [
    "reg = Ridge(alpha = 0.001 , max_iter = 500 , solver = 'sparse_cg') "
   ]
  },
  {
   "cell_type": "code",
   "execution_count": 46,
   "id": "ca44ec5a",
   "metadata": {},
   "outputs": [
    {
     "data": {
      "text/plain": [
       "Ridge(alpha=0.001, max_iter=500, solver='sparse_cg')"
      ]
     },
     "execution_count": 46,
     "metadata": {},
     "output_type": "execute_result"
    }
   ],
   "source": [
    "reg.fit(X_train , y_train) "
   ]
  },
  {
   "cell_type": "code",
   "execution_count": 47,
   "id": "c123efff",
   "metadata": {},
   "outputs": [],
   "source": [
    "y_pred = reg.predict(X_test) \n",
    "# y_pred"
   ]
  },
  {
   "cell_type": "code",
   "execution_count": 48,
   "id": "16fb4fe4",
   "metadata": {},
   "outputs": [
    {
     "name": "stdout",
     "output_type": "stream",
     "text": [
      "R2 SCORE : -0.10916120707768195\n",
      "SLOPE: [  34.62617431 -290.42643559  483.96594581  367.96559729 -852.21640465\n",
      "  498.74459944  183.78210203  276.57704126  757.34559544   36.95860457]\n",
      "INTERCEPT : 151.1041692189293\n"
     ]
    }
   ],
   "source": [
    "print(\"R2 SCORE :\" , r2_score(y_pred , y_test)) \n",
    "print(\"SLOPE:\" , reg.coef_)\n",
    "print(\"INTERCEPT :\" , reg.intercept_)"
   ]
  },
  {
   "cell_type": "markdown",
   "id": "52e57ea7",
   "metadata": {},
   "source": [
    "# np.insert(arr, obj, values, axis): This is a NumPy function that inserts values into an array along a specified axis. It takes four arguments:\n",
    "\n",
    "arr: The array in which values are to be inserted. In this case, it is X_train.\n",
    "obj: The index or indices before which the values should be inserted. In this case, 0 is specified, which means the values will be inserted at the beginning of the array.\n",
    "values: The values to be inserted. In this case, 1 is specified, indicating a column of ones.\n",
    "axis: The axis along which the insertion should be performed. 1 is specified, indicating that the values should be inserted along the columns."
   ]
  },
  {
   "cell_type": "code",
   "execution_count": 49,
   "id": "9ecd6b23",
   "metadata": {},
   "outputs": [],
   "source": [
    "class MeraRidgeGD:\n",
    "    \n",
    "    def __init__(self,epochs,learning_rate,alpha):\n",
    "        \n",
    "        self.learning_rate = learning_rate\n",
    "        self.epochs = epochs\n",
    "        self.alpha = alpha\n",
    "        self.coef_ = None\n",
    "        self.intercept_ = None\n",
    "        \n",
    "    def fit(self,X_train,y_train):\n",
    "        \n",
    "        self.coef_ = np.ones(X_train.shape[1])\n",
    "        self.intercept_ = 0\n",
    "        thetha = np.insert(self.coef_,0,self.intercept_)\n",
    "        \n",
    "        X_train = np.insert(X_train,0,1,axis=1)\n",
    "        \n",
    "        for i in range(self.epochs):\n",
    "            thetha_der = np.dot(X_train.T,X_train).dot(thetha) - np.dot(X_train.T,y_train) + self.alpha*thetha\n",
    "            thetha = thetha - self.learning_rate*thetha_der\n",
    "        \n",
    "        self.coef_ = thetha[1:]\n",
    "        self.intercept_ = thetha[0]\n",
    "    \n",
    "    def predict(self,X_test):\n",
    "        \n",
    "        return np.dot(X_test,self.coef_) + self.intercept_"
   ]
  },
  {
   "cell_type": "code",
   "execution_count": 50,
   "id": "e520f54a",
   "metadata": {},
   "outputs": [],
   "source": [
    "reg = MeraRidgeGD(epochs=500,alpha=0.001,learning_rate=0.005)"
   ]
  },
  {
   "cell_type": "code",
   "execution_count": 51,
   "id": "028e1fcc",
   "metadata": {},
   "outputs": [],
   "source": [
    "reg.fit(X_train , y_train) "
   ]
  },
  {
   "cell_type": "code",
   "execution_count": 52,
   "id": "07543e59",
   "metadata": {},
   "outputs": [],
   "source": [
    "y_pred = reg.predict(X_test) "
   ]
  },
  {
   "cell_type": "code",
   "execution_count": 53,
   "id": "15061650",
   "metadata": {},
   "outputs": [
    {
     "name": "stdout",
     "output_type": "stream",
     "text": [
      "r2 socre: 0.47379622696725354\n"
     ]
    }
   ],
   "source": [
    "print('r2 socre:' , r2_score(y_test , y_pred)) "
   ]
  },
  {
   "cell_type": "code",
   "execution_count": 54,
   "id": "475b9360",
   "metadata": {},
   "outputs": [
    {
     "name": "stdout",
     "output_type": "stream",
     "text": [
      "[  46.65040212 -221.37723801  452.11770407  325.54645024  -29.09573382\n",
      "  -96.47613436 -190.90029664  146.3286965   400.80754967   95.08979987]\n"
     ]
    }
   ],
   "source": [
    "print(reg.coef_)"
   ]
  },
  {
   "cell_type": "code",
   "execution_count": 55,
   "id": "ee3bc5ea",
   "metadata": {},
   "outputs": [
    {
     "name": "stdout",
     "output_type": "stream",
     "text": [
      "150.869724427339\n"
     ]
    }
   ],
   "source": [
    "print(reg.intercept_)"
   ]
  },
  {
   "cell_type": "code",
   "execution_count": null,
   "id": "0fed5751",
   "metadata": {},
   "outputs": [],
   "source": []
  },
  {
   "cell_type": "code",
   "execution_count": null,
   "id": "5df346d7",
   "metadata": {},
   "outputs": [],
   "source": []
  },
  {
   "cell_type": "code",
   "execution_count": null,
   "id": "89758780",
   "metadata": {},
   "outputs": [],
   "source": []
  },
  {
   "cell_type": "code",
   "execution_count": null,
   "id": "73b9451d",
   "metadata": {},
   "outputs": [],
   "source": []
  },
  {
   "cell_type": "code",
   "execution_count": null,
   "id": "a28c8914",
   "metadata": {},
   "outputs": [],
   "source": []
  }
 ],
 "metadata": {
  "kernelspec": {
   "display_name": "Python 3 (ipykernel)",
   "language": "python",
   "name": "python3"
  },
  "language_info": {
   "codemirror_mode": {
    "name": "ipython",
    "version": 3
   },
   "file_extension": ".py",
   "mimetype": "text/x-python",
   "name": "python",
   "nbconvert_exporter": "python",
   "pygments_lexer": "ipython3",
   "version": "3.9.13"
  }
 },
 "nbformat": 4,
 "nbformat_minor": 5
}
